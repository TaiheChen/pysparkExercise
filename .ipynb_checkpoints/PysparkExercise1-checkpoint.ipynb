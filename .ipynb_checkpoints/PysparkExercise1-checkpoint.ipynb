{
 "cells": [
  {
   "cell_type": "code",
   "execution_count": 3,
   "id": "047b5a18",
   "metadata": {},
   "outputs": [],
   "source": [
    "#set up environment\n",
    "from pyspark.sql import SparkSession\n",
    "spark=SparkSession.builder.appName('data_processing').getOrCreate()\n",
    "import pyspark.sql.functions as F\n",
    "from pyspark.sql.types import *\n"
   ]
  },
  {
   "cell_type": "code",
   "execution_count": 10,
   "id": "4c168352",
   "metadata": {},
   "outputs": [],
   "source": [
    "#首先建立一个SparkSession Object，然后建立DataFra me，包含integer和string等5个字段\n",
    "schema = StructType().add(\"user_id\",\"string\").add(\"country\",\"string\").add(\"browser\",\"string\").add(\"OS\",\"string\").add(\"age\",\"string\")\n",
    "\n",
    "df = spark.createDataFrame([(\"A203\",'India',\"Chrome\",\"WIN\",33),(\"A201\",'China',\"Safari\",\"MacOS\",35),(\"A205\",'UK',\"Mozilla\",\"Linux\",25)],schema=schema)"
   ]
  },
  {
   "cell_type": "code",
   "execution_count": 13,
   "id": "99a448b2",
   "metadata": {
    "scrolled": true
   },
   "outputs": [
    {
     "name": "stdout",
     "output_type": "stream",
     "text": [
      "root\n",
      " |-- user_id: string (nullable = true)\n",
      " |-- country: string (nullable = true)\n",
      " |-- browser: string (nullable = true)\n",
      " |-- OS: string (nullable = true)\n",
      " |-- age: string (nullable = true)\n",
      "\n",
      "+-------+-------+-------+-----+---+\n",
      "|user_id|country|browser|   OS|age|\n",
      "+-------+-------+-------+-----+---+\n",
      "|   A203|  India| Chrome|  WIN| 33|\n",
      "|   A201|  China| Safari|MacOS| 35|\n",
      "|   A205|     UK|Mozilla|Linux| 25|\n",
      "+-------+-------+-------+-----+---+\n",
      "\n"
     ]
    }
   ],
   "source": [
    "#我们可以看一下df的数据结构和数据结构：\n",
    "df.printSchema()\n",
    "df.show()"
   ]
  },
  {
   "cell_type": "code",
   "execution_count": 18,
   "id": "b02eac1c",
   "metadata": {},
   "outputs": [
    {
     "name": "stdout",
     "output_type": "stream",
     "text": [
      "+-------+-------+-------+---+---+\n",
      "|user_id|country|browser| OS|age|\n",
      "+-------+-------+-------+---+---+\n",
      "|   A203|   null| Chrome|WIN| 33|\n",
      "+-------+-------+-------+---+---+\n",
      "\n",
      "+-------+-------+-------+---+---+\n",
      "|user_id|country|browser| OS|age|\n",
      "+-------+-------+-------+---+---+\n",
      "|   A203|      0| Chrome|WIN| 33|\n",
      "+-------+-------+-------+---+---+\n",
      "\n",
      "+-------+-------+-------+---+---+\n",
      "|user_id|country|browser| OS|age|\n",
      "+-------+-------+-------+---+---+\n",
      "|   A203|    USA| Chrome|WIN| 33|\n",
      "+-------+-------+-------+---+---+\n",
      "\n",
      "+-------+-------+---+---+\n",
      "|country|browser| OS|age|\n",
      "+-------+-------+---+---+\n",
      "|   null| Chrome|WIN| 33|\n",
      "+-------+-------+---+---+\n",
      "\n"
     ]
    }
   ],
   "source": [
    "缺失值替换 删除column\n",
    "df_na = spark.createDataFrame([(\"A203\",None,\"Chrome\",\"WIN\",33)],schema = schema)\n",
    "df_na.show()\n",
    "df_na.fillna('0').show()\n",
    "df_na.fillna({'country':'USA'}).show()\n",
    "df_na.drop('user_id').show()"
   ]
  },
  {
   "cell_type": "code",
   "execution_count": 22,
   "id": "dc318585",
   "metadata": {},
   "outputs": [
    {
     "name": "stdout",
     "output_type": "stream",
     "text": [
      "10127\n",
      "21\n",
      "root\n",
      " |-- CLIENTNUM: integer (nullable = true)\n",
      " |-- Attrition_Flag: string (nullable = true)\n",
      " |-- Customer_Age: integer (nullable = true)\n",
      " |-- Gender: string (nullable = true)\n",
      " |-- Dependent_count: integer (nullable = true)\n",
      " |-- Education_Level: string (nullable = true)\n",
      " |-- Marital_Status: string (nullable = true)\n",
      " |-- Income_Category: string (nullable = true)\n",
      " |-- Card_Category: string (nullable = true)\n",
      " |-- Months_on_book: integer (nullable = true)\n",
      " |-- Total_Relationship_Count: integer (nullable = true)\n",
      " |-- Months_Inactive_12_mon: integer (nullable = true)\n",
      " |-- Contacts_Count_12_mon: integer (nullable = true)\n",
      " |-- Credit_Limit: double (nullable = true)\n",
      " |-- Total_Revolving_Bal: integer (nullable = true)\n",
      " |-- Avg_Open_To_Buy: double (nullable = true)\n",
      " |-- Total_Amt_Chng_Q4_Q1: double (nullable = true)\n",
      " |-- Total_Trans_Amt: integer (nullable = true)\n",
      " |-- Total_Trans_Ct: integer (nullable = true)\n",
      " |-- Total_Ct_Chng_Q4_Q1: double (nullable = true)\n",
      " |-- Avg_Utilization_Ratio: double (nullable = true)\n",
      "\n"
     ]
    }
   ],
   "source": [
    "#读取数据\n",
    "df = spark.read.csv(\"BankChurners.csv\",header=True,inferSchema=True)\n",
    "print(df.count())\n",
    "print(len(df.columns))\n",
    "df.printSchema()"
   ]
  },
  {
   "cell_type": "code",
   "execution_count": 24,
   "id": "9651bf5d",
   "metadata": {},
   "outputs": [
    {
     "name": "stdout",
     "output_type": "stream",
     "text": [
      "+-------------+------------+\n",
      "|Card_Category|Credit_Limit|\n",
      "+-------------+------------+\n",
      "|         Blue|     12691.0|\n",
      "|         Blue|      8256.0|\n",
      "|         Blue|      3418.0|\n",
      "|         Blue|      3313.0|\n",
      "|         Blue|      4716.0|\n",
      "|         Blue|      4010.0|\n",
      "|         Gold|     34516.0|\n",
      "|       Silver|     29081.0|\n",
      "|         Blue|     22352.0|\n",
      "|         Blue|     11656.0|\n",
      "|         Blue|      6748.0|\n",
      "|         Blue|      9095.0|\n",
      "|         Blue|     11751.0|\n",
      "|         Blue|      8547.0|\n",
      "|         Blue|      2436.0|\n",
      "|         Blue|      4234.0|\n",
      "|         Blue|     30367.0|\n",
      "|         Blue|     13535.0|\n",
      "|         Blue|      3193.0|\n",
      "|         Blue|     14470.0|\n",
      "+-------------+------------+\n",
      "only showing top 20 rows\n",
      "\n"
     ]
    }
   ],
   "source": [
    "df.select(['Card_Category','Credit_Limit']).show()\n"
   ]
  },
  {
   "cell_type": "code",
   "execution_count": 29,
   "id": "8342bbbd",
   "metadata": {},
   "outputs": [
    {
     "name": "stdout",
     "output_type": "stream",
     "text": [
      "667\n",
      "+---------+-----------------+------------+------+---------------+---------------+--------------+---------------+-------------+--------------+------------------------+----------------------+---------------------+------------+-------------------+---------------+--------------------+---------------+--------------+-------------------+---------------------+\n",
      "|CLIENTNUM|   Attrition_Flag|Customer_Age|Gender|Dependent_count|Education_Level|Marital_Status|Income_Category|Card_Category|Months_on_book|Total_Relationship_Count|Months_Inactive_12_mon|Contacts_Count_12_mon|Credit_Limit|Total_Revolving_Bal|Avg_Open_To_Buy|Total_Amt_Chng_Q4_Q1|Total_Trans_Amt|Total_Trans_Ct|Total_Ct_Chng_Q4_Q1|Avg_Utilization_Ratio|\n",
      "+---------+-----------------+------------+------+---------------+---------------+--------------+---------------+-------------+--------------+------------------------+----------------------+---------------------+------------+-------------------+---------------+--------------------+---------------+--------------+-------------------+---------------------+\n",
      "|810347208|Existing Customer|          51|     M|              4|        Unknown|       Married|        $120K +|         Gold|            46|                       6|                     1|                    3|     34516.0|               2264|        32252.0|               1.975|           1330|            31|              0.722|                0.066|\n",
      "|709967358|Existing Customer|          48|     M|              4|  Post-Graduate|        Single|   $80K - $120K|         Blue|            36|                       6|                     2|                    3|     30367.0|               2362|        28005.0|               1.708|           1671|            27|              0.929|                0.078|\n",
      "|827111283|Existing Customer|          45|     M|              3|       Graduate|        Single|   $80K - $120K|         Blue|            41|                       2|                     2|                    2|     32426.0|                578|        31848.0|               1.042|           1109|            28|              0.474|                0.018|\n",
      "|712661433|Existing Customer|          49|     M|              4|     Uneducated|        Single|   $80K - $120K|         Blue|            30|                       3|                     2|                    3|     34516.0|                  0|        34516.0|               1.621|           1444|            28|              1.333|                  0.0|\n",
      "|712030833|Attrited Customer|          48|     M|              2|       Graduate|       Married|    $60K - $80K|       Silver|            35|                       2|                     4|                    4|     34516.0|                  0|        34516.0|               0.763|            691|            15|                0.5|                  0.0|\n",
      "|788979258|Existing Customer|          51|     M|              4|     Uneducated|        Single|   $80K - $120K|       Silver|            38|                       4|                     1|                    4|     34516.0|               1515|        33001.0|               0.592|           1293|            32|                0.6|                0.044|\n",
      "|715971108|Existing Customer|          51|     M|              4|       Graduate|        Single|        $120K +|         Blue|            42|                       3|                     2|                    3|     34516.0|               1763|        32753.0|               1.266|           1550|            41|               1.05|                0.051|\n",
      "|715156383|Existing Customer|          44|     M|              1|        Unknown|       Unknown|        $120K +|         Blue|            36|                       6|                     2|                    2|     34516.0|               1533|        32983.0|               0.924|           1603|            29|              0.526|                0.044|\n",
      "|794543958|Existing Customer|          53|     M|              1|       Graduate|      Divorced|   $80K - $120K|         Blue|            35|                       5|                     4|                    2|     34516.0|               1219|        33297.0|               1.129|           1590|            27|                2.0|                0.035|\n",
      "|714070758|Existing Customer|          49|     M|              4|    High School|        Single|   $80K - $120K|         Blue|            38|                       4|                     3|                    0|     31302.0|               1953|        29349.0|               0.875|           1564|            35|              2.182|                0.062|\n",
      "|713843283|Existing Customer|          41|     F|              3|        Unknown|       Married|        Unknown|       Silver|            34|                       5|                     3|                    3|     34516.0|               2053|        32463.0|               1.034|           1487|            26|              0.733|                0.059|\n",
      "|779509983|Existing Customer|          53|     M|              2|  Post-Graduate|        Single|        $120K +|         Blue|            36|                       6|                     1|                    2|     34516.0|                931|        33585.0|               0.828|           1022|            21|                1.1|                0.027|\n",
      "|708476808|Existing Customer|          54|     M|              4|        Unknown|      Divorced|        $120K +|         Blue|            36|                       6|                     3|                    2|     33791.0|               1960|        31831.0|               0.618|           1047|            31|              0.824|                0.058|\n",
      "|718414008|Existing Customer|          50|     M|              2|       Graduate|        Single|        $120K +|         Blue|            36|                       3|                     2|                    2|     34516.0|               1023|        33493.0|               1.004|           1064|            13|              0.625|                 0.03|\n",
      "|771075258|Existing Customer|          55|     M|              2|        College|        Single|        $120K +|       Silver|            42|                       2|                     3|                    2|     34516.0|               1527|        32989.0|               0.526|           1268|            42|              0.355|                0.044|\n",
      "|783554958|Existing Customer|          58|     M|              4|       Graduate|        Single|        $120K +|         Blue|            52|                       6|                     1|                    0|     32090.0|                  0|        32090.0|               0.567|           1368|            30|              0.364|                  0.0|\n",
      "|718759833|Existing Customer|          44|     F|              2|     Uneducated|       Married|        Unknown|       Silver|            35|                       4|                     3|                    2|     32643.0|                  0|        32643.0|                 1.3|           1058|            24|              2.429|                  0.0|\n",
      "|713741358|Attrited Customer|          46|     M|              5|       Graduate|        Single|   $80K - $120K|         Blue|            33|                       6|                     3|                    3|     32975.0|               2517|        30458.0|               0.658|            597|            17|                0.7|                0.076|\n",
      "|712608783|Existing Customer|          50|     M|              2|    High School|       Married|   $80K - $120K|       Silver|            45|                       3|                     1|                    3|     34516.0|               1260|        33256.0|               0.588|           1504|            34|              0.789|                0.037|\n",
      "|770817783|Existing Customer|          47|     M|              4|       Graduate|       Married|    $60K - $80K|       Silver|            33|                       3|                     2|                    1|     34516.0|               1679|        32837.0|               0.623|           1060|            27|                0.5|                0.049|\n",
      "+---------+-----------------+------------+------+---------------+---------------+--------------+---------------+-------------+--------------+------------------------+----------------------+---------------------+------------+-------------------+---------------+--------------------+---------------+--------------+-------------------+---------------------+\n",
      "only showing top 20 rows\n",
      "\n"
     ]
    }
   ],
   "source": [
    "print(df.filter(df['Credit_Limit']>30000).count())\n",
    "df.filter(df['Credit_Limit']>30000).show()"
   ]
  },
  {
   "cell_type": "code",
   "execution_count": 31,
   "id": "42ea5ee4",
   "metadata": {
    "scrolled": true
   },
   "outputs": [
    {
     "name": "stdout",
     "output_type": "stream",
     "text": [
      "+---------+-----------------+------------+------+---------------+---------------+--------------+---------------+-------------+--------------+------------------------+----------------------+---------------------+------------+-------------------+---------------+--------------------+---------------+--------------+-------------------+---------------------+\n",
      "|CLIENTNUM|   Attrition_Flag|Customer_Age|Gender|Dependent_count|Education_Level|Marital_Status|Income_Category|Card_Category|Months_on_book|Total_Relationship_Count|Months_Inactive_12_mon|Contacts_Count_12_mon|Credit_Limit|Total_Revolving_Bal|Avg_Open_To_Buy|Total_Amt_Chng_Q4_Q1|Total_Trans_Amt|Total_Trans_Ct|Total_Ct_Chng_Q4_Q1|Avg_Utilization_Ratio|\n",
      "+---------+-----------------+------------+------+---------------+---------------+--------------+---------------+-------------+--------------+------------------------+----------------------+---------------------+------------+-------------------+---------------+--------------------+---------------+--------------+-------------------+---------------------+\n",
      "|810347208|Existing Customer|          51|     M|              4|        Unknown|       Married|        $120K +|         Gold|            46|                       6|                     1|                    3|     34516.0|               2264|        32252.0|               1.975|           1330|            31|              0.722|                0.066|\n",
      "|779749908|Existing Customer|          48|     M|              4|        College|       Married|    $60K - $80K|         Gold|            33|                       2|                     2|                    3|     34516.0|               2061|        32455.0|               0.722|           1350|            32|              0.455|                 0.06|\n",
      "|827332983|Existing Customer|          46|     M|              3|    High School|        Single|   $80K - $120K|         Gold|            42|                       3|                     2|                    2|     34516.0|               2113|        32403.0|               0.618|           1362|            31|              1.214|                0.061|\n",
      "|710997183|Existing Customer|          46|     M|              0|        Unknown|       Married|    $60K - $80K|         Gold|            36|                       3|                     3|                    2|     34516.0|               1092|        33424.0|               0.737|           1409|            39|              0.345|                0.032|\n",
      "|816776283|Existing Customer|          42|     M|              4|    High School|       Unknown|   $80K - $120K|         Gold|            37|                       5|                     1|                    2|     34516.0|               1797|        32719.0|               1.314|           1534|            30|              0.875|                0.052|\n",
      "|710628783|Existing Customer|          38|     M|              4|    High School|        Single|   $80K - $120K|         Gold|            36|                       6|                     1|                    3|     34516.0|               1140|        33376.0|               0.815|           1445|            45|              0.957|                0.033|\n",
      "|720009558|Existing Customer|          33|     F|              2|        College|        Single|        Unknown|         Gold|            36|                       3|                     1|                    3|     34516.0|               1540|        32976.0|               1.038|           2574|            72|              0.756|                0.045|\n",
      "|714832383|Existing Customer|          35|     M|              0|    High School|        Single|   $80K - $120K|         Gold|            29|                       6|                     2|                    3|     34516.0|               1965|        32551.0|               1.044|           2949|            70|                1.0|                0.057|\n",
      "|806170158|Existing Customer|          39|     M|              4|       Graduate|        Single|    $60K - $80K|         Gold|            34|                       3|                     3|                    2|     34516.0|                542|        33974.0|               0.866|           3899|            78|              0.857|                0.016|\n",
      "|797757333|Existing Customer|          43|     M|              3|  Post-Graduate|       Married|    $60K - $80K|         Gold|            37|                       6|                     1|                    2|     34516.0|               1580|        32936.0|               0.707|           4149|            86|              0.755|                0.046|\n",
      "|715749108|Existing Customer|          48|     M|              3|       Graduate|       Married|    $60K - $80K|         Gold|            37|                       5|                     1|                    2|     34516.0|               2429|        32087.0|               0.742|           3205|            57|              0.727|                 0.07|\n",
      "|714199983|Existing Customer|          48|     M|              3|     Uneducated|        Single|    $60K - $80K|         Gold|            40|                       5|                     2|                    5|     34516.0|               2317|        32199.0|               0.699|           3927|            68|                0.7|                0.067|\n",
      "|709163358|Attrited Customer|          41|     M|              5|        Unknown|        Single|    $60K - $80K|         Gold|            32|                       2|                     3|                    4|     34516.0|               2517|        31999.0|               0.465|           1727|            35|              0.458|                0.073|\n",
      "|720683958|Existing Customer|          41|     M|              4|     Uneducated|      Divorced|   $80K - $120K|         Gold|            36|                       6|                     2|                    2|     34516.0|                  0|        34516.0|               0.742|           4077|            67|              0.763|                  0.0|\n",
      "|816084333|Existing Customer|          42|     M|              2|        Unknown|        Single|        $120K +|         Gold|            37|                       5|                     2|                    2|     34516.0|               1230|        33286.0|                0.72|           3260|            63|                1.1|                0.036|\n",
      "|711191808|Existing Customer|          39|     M|              0|       Graduate|        Single|   $80K - $120K|         Gold|            32|                       3|                     1|                    4|     34516.0|               1793|        32723.0|               0.545|           4256|            82|              0.783|                0.052|\n",
      "|713745783|Existing Customer|          29|     F|              0|  Post-Graduate|        Single|        Unknown|         Gold|            36|                       4|                     1|                    4|     34516.0|               1452|        33064.0|               0.887|           2336|            49|               1.13|                0.042|\n",
      "|719874633|Attrited Customer|          44|     M|              1|    High School|       Unknown|   $80K - $120K|         Gold|            36|                       2|                     2|                    3|     34516.0|                  0|        34516.0|               0.596|           1891|            34|              0.214|                  0.0|\n",
      "|709912683|Existing Customer|          53|     F|              4|       Graduate|        Single|        Unknown|         Gold|            41|                       5|                     1|                    2|     34516.0|               2374|        32142.0|                0.81|           4390|            77|              0.604|                0.069|\n",
      "|715627833|Existing Customer|          48|     M|              3|    High School|       Married|    $60K - $80K|         Gold|            37|                       6|                     2|                    0|     34516.0|               1948|        32568.0|               0.666|           4539|            75|              0.705|                0.056|\n",
      "+---------+-----------------+------------+------+---------------+---------------+--------------+---------------+-------------+--------------+------------------------+----------------------+---------------------+------------+-------------------+---------------+--------------------+---------------+--------------+-------------------+---------------------+\n",
      "only showing top 20 rows\n",
      "\n"
     ]
    }
   ],
   "source": [
    "df.filter(df['Credit_Limit']>30000).filter(df['Card_Category']=='Gold').show()"
   ]
  },
  {
   "cell_type": "code",
   "execution_count": 32,
   "id": "5b556420",
   "metadata": {},
   "outputs": [
    {
     "name": "stdout",
     "output_type": "stream",
     "text": [
      "+---------+-----------------+------------+------+---------------+---------------+--------------+---------------+-------------+--------------+------------------------+----------------------+---------------------+------------+-------------------+---------------+--------------------+---------------+--------------+-------------------+---------------------+\n",
      "|CLIENTNUM|   Attrition_Flag|Customer_Age|Gender|Dependent_count|Education_Level|Marital_Status|Income_Category|Card_Category|Months_on_book|Total_Relationship_Count|Months_Inactive_12_mon|Contacts_Count_12_mon|Credit_Limit|Total_Revolving_Bal|Avg_Open_To_Buy|Total_Amt_Chng_Q4_Q1|Total_Trans_Amt|Total_Trans_Ct|Total_Ct_Chng_Q4_Q1|Avg_Utilization_Ratio|\n",
      "+---------+-----------------+------------+------+---------------+---------------+--------------+---------------+-------------+--------------+------------------------+----------------------+---------------------+------------+-------------------+---------------+--------------------+---------------+--------------+-------------------+---------------------+\n",
      "|810347208|Existing Customer|          51|     M|              4|        Unknown|       Married|        $120K +|         Gold|            46|                       6|                     1|                    3|     34516.0|               2264|        32252.0|               1.975|           1330|            31|              0.722|                0.066|\n",
      "|779749908|Existing Customer|          48|     M|              4|        College|       Married|    $60K - $80K|         Gold|            33|                       2|                     2|                    3|     34516.0|               2061|        32455.0|               0.722|           1350|            32|              0.455|                 0.06|\n",
      "|827332983|Existing Customer|          46|     M|              3|    High School|        Single|   $80K - $120K|         Gold|            42|                       3|                     2|                    2|     34516.0|               2113|        32403.0|               0.618|           1362|            31|              1.214|                0.061|\n",
      "|710997183|Existing Customer|          46|     M|              0|        Unknown|       Married|    $60K - $80K|         Gold|            36|                       3|                     3|                    2|     34516.0|               1092|        33424.0|               0.737|           1409|            39|              0.345|                0.032|\n",
      "|816776283|Existing Customer|          42|     M|              4|    High School|       Unknown|   $80K - $120K|         Gold|            37|                       5|                     1|                    2|     34516.0|               1797|        32719.0|               1.314|           1534|            30|              0.875|                0.052|\n",
      "|710628783|Existing Customer|          38|     M|              4|    High School|        Single|   $80K - $120K|         Gold|            36|                       6|                     1|                    3|     34516.0|               1140|        33376.0|               0.815|           1445|            45|              0.957|                0.033|\n",
      "|720009558|Existing Customer|          33|     F|              2|        College|        Single|        Unknown|         Gold|            36|                       3|                     1|                    3|     34516.0|               1540|        32976.0|               1.038|           2574|            72|              0.756|                0.045|\n",
      "|714832383|Existing Customer|          35|     M|              0|    High School|        Single|   $80K - $120K|         Gold|            29|                       6|                     2|                    3|     34516.0|               1965|        32551.0|               1.044|           2949|            70|                1.0|                0.057|\n",
      "|806170158|Existing Customer|          39|     M|              4|       Graduate|        Single|    $60K - $80K|         Gold|            34|                       3|                     3|                    2|     34516.0|                542|        33974.0|               0.866|           3899|            78|              0.857|                0.016|\n",
      "|797757333|Existing Customer|          43|     M|              3|  Post-Graduate|       Married|    $60K - $80K|         Gold|            37|                       6|                     1|                    2|     34516.0|               1580|        32936.0|               0.707|           4149|            86|              0.755|                0.046|\n",
      "|715749108|Existing Customer|          48|     M|              3|       Graduate|       Married|    $60K - $80K|         Gold|            37|                       5|                     1|                    2|     34516.0|               2429|        32087.0|               0.742|           3205|            57|              0.727|                 0.07|\n",
      "|714199983|Existing Customer|          48|     M|              3|     Uneducated|        Single|    $60K - $80K|         Gold|            40|                       5|                     2|                    5|     34516.0|               2317|        32199.0|               0.699|           3927|            68|                0.7|                0.067|\n",
      "|709163358|Attrited Customer|          41|     M|              5|        Unknown|        Single|    $60K - $80K|         Gold|            32|                       2|                     3|                    4|     34516.0|               2517|        31999.0|               0.465|           1727|            35|              0.458|                0.073|\n",
      "|720683958|Existing Customer|          41|     M|              4|     Uneducated|      Divorced|   $80K - $120K|         Gold|            36|                       6|                     2|                    2|     34516.0|                  0|        34516.0|               0.742|           4077|            67|              0.763|                  0.0|\n",
      "|816084333|Existing Customer|          42|     M|              2|        Unknown|        Single|        $120K +|         Gold|            37|                       5|                     2|                    2|     34516.0|               1230|        33286.0|                0.72|           3260|            63|                1.1|                0.036|\n",
      "|711191808|Existing Customer|          39|     M|              0|       Graduate|        Single|   $80K - $120K|         Gold|            32|                       3|                     1|                    4|     34516.0|               1793|        32723.0|               0.545|           4256|            82|              0.783|                0.052|\n",
      "|713745783|Existing Customer|          29|     F|              0|  Post-Graduate|        Single|        Unknown|         Gold|            36|                       4|                     1|                    4|     34516.0|               1452|        33064.0|               0.887|           2336|            49|               1.13|                0.042|\n",
      "|719874633|Attrited Customer|          44|     M|              1|    High School|       Unknown|   $80K - $120K|         Gold|            36|                       2|                     2|                    3|     34516.0|                  0|        34516.0|               0.596|           1891|            34|              0.214|                  0.0|\n",
      "|709912683|Existing Customer|          53|     F|              4|       Graduate|        Single|        Unknown|         Gold|            41|                       5|                     1|                    2|     34516.0|               2374|        32142.0|                0.81|           4390|            77|              0.604|                0.069|\n",
      "|715627833|Existing Customer|          48|     M|              3|    High School|       Married|    $60K - $80K|         Gold|            37|                       6|                     2|                    0|     34516.0|               1948|        32568.0|               0.666|           4539|            75|              0.705|                0.056|\n",
      "+---------+-----------------+------------+------+---------------+---------------+--------------+---------------+-------------+--------------+------------------------+----------------------+---------------------+------------+-------------------+---------------+--------------------+---------------+--------------+-------------------+---------------------+\n",
      "only showing top 20 rows\n",
      "\n"
     ]
    }
   ],
   "source": [
    "df.where((df['Credit_Limit']>30000) & (df['Card_Category']=='Gold')).show()"
   ]
  },
  {
   "cell_type": "code",
   "execution_count": null,
   "id": "24354c36",
   "metadata": {},
   "outputs": [],
   "source": []
  }
 ],
 "metadata": {
  "kernelspec": {
   "display_name": "Python 3",
   "language": "python",
   "name": "python3"
  },
  "language_info": {
   "codemirror_mode": {
    "name": "ipython",
    "version": 3
   },
   "file_extension": ".py",
   "mimetype": "text/x-python",
   "name": "python",
   "nbconvert_exporter": "python",
   "pygments_lexer": "ipython3",
   "version": "3.8.5"
  }
 },
 "nbformat": 4,
 "nbformat_minor": 5
}
